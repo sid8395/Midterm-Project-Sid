{
 "cells": [
  {
   "cell_type": "markdown",
   "id": "15cd7ce0",
   "metadata": {},
   "source": [
    "# MODEL 2: Using a Function to predict price based on Property data passed as a parameter "
   ]
  },
  {
   "cell_type": "markdown",
   "id": "490bed18",
   "metadata": {},
   "source": [
    "IMPORTS"
   ]
  },
  {
   "cell_type": "code",
   "execution_count": 1,
   "id": "0f0c0524",
   "metadata": {},
   "outputs": [],
   "source": [
    "import pandas as pd"
   ]
  },
  {
   "cell_type": "code",
   "execution_count": 2,
   "id": "8aaec9a0",
   "metadata": {},
   "outputs": [],
   "source": [
    "import seaborn as sns"
   ]
  },
  {
   "cell_type": "code",
   "execution_count": 3,
   "id": "46ba7ac6",
   "metadata": {},
   "outputs": [],
   "source": [
    "import numpy as np"
   ]
  },
  {
   "cell_type": "code",
   "execution_count": 184,
   "id": "b3dc5edf",
   "metadata": {},
   "outputs": [],
   "source": [
    "from sklearn.model_selection import train_test_split\n",
    "from sklearn.linear_model import LinearRegression\n",
    "from sklearn.metrics import mean_squared_error\n",
    "from sklearn.preprocessing import QuantileTransformer"
   ]
  },
  {
   "cell_type": "markdown",
   "id": "d368bd0b",
   "metadata": {},
   "source": [
    "VIEWING THE DATA AS A DATAFRAME"
   ]
  },
  {
   "cell_type": "code",
   "execution_count": 185,
   "id": "21d07ca4",
   "metadata": {},
   "outputs": [],
   "source": [
    "df=pd.read_csv(\"all_perth_310121.csv\")"
   ]
  },
  {
   "cell_type": "code",
   "execution_count": 186,
   "id": "68b8f3d7",
   "metadata": {},
   "outputs": [
    {
     "data": {
      "text/html": [
       "<div>\n",
       "<style scoped>\n",
       "    .dataframe tbody tr th:only-of-type {\n",
       "        vertical-align: middle;\n",
       "    }\n",
       "\n",
       "    .dataframe tbody tr th {\n",
       "        vertical-align: top;\n",
       "    }\n",
       "\n",
       "    .dataframe thead th {\n",
       "        text-align: right;\n",
       "    }\n",
       "</style>\n",
       "<table border=\"1\" class=\"dataframe\">\n",
       "  <thead>\n",
       "    <tr style=\"text-align: right;\">\n",
       "      <th></th>\n",
       "      <th>ADDRESS</th>\n",
       "      <th>SUBURB</th>\n",
       "      <th>PRICE</th>\n",
       "      <th>BEDROOMS</th>\n",
       "      <th>BATHROOMS</th>\n",
       "      <th>GARAGE</th>\n",
       "      <th>LAND_AREA</th>\n",
       "      <th>FLOOR_AREA</th>\n",
       "      <th>BUILD_YEAR</th>\n",
       "      <th>CBD_DIST</th>\n",
       "      <th>NEAREST_STN</th>\n",
       "      <th>NEAREST_STN_DIST</th>\n",
       "      <th>DATE_SOLD</th>\n",
       "      <th>POSTCODE</th>\n",
       "      <th>LATITUDE</th>\n",
       "      <th>LONGITUDE</th>\n",
       "      <th>NEAREST_SCH</th>\n",
       "      <th>NEAREST_SCH_DIST</th>\n",
       "      <th>NEAREST_SCH_RANK</th>\n",
       "    </tr>\n",
       "  </thead>\n",
       "  <tbody>\n",
       "    <tr>\n",
       "      <th>0</th>\n",
       "      <td>1 Acorn Place</td>\n",
       "      <td>South Lake</td>\n",
       "      <td>565000</td>\n",
       "      <td>4</td>\n",
       "      <td>2</td>\n",
       "      <td>2.0</td>\n",
       "      <td>600</td>\n",
       "      <td>160</td>\n",
       "      <td>2003.0</td>\n",
       "      <td>18300</td>\n",
       "      <td>Cockburn Central Station</td>\n",
       "      <td>1800</td>\n",
       "      <td>09-2018\\r</td>\n",
       "      <td>6164</td>\n",
       "      <td>-32.115900</td>\n",
       "      <td>115.842450</td>\n",
       "      <td>LAKELAND SENIOR HIGH SCHOOL</td>\n",
       "      <td>0.828339</td>\n",
       "      <td>NaN</td>\n",
       "    </tr>\n",
       "    <tr>\n",
       "      <th>1</th>\n",
       "      <td>1 Addis Way</td>\n",
       "      <td>Wandi</td>\n",
       "      <td>365000</td>\n",
       "      <td>3</td>\n",
       "      <td>2</td>\n",
       "      <td>2.0</td>\n",
       "      <td>351</td>\n",
       "      <td>139</td>\n",
       "      <td>2013.0</td>\n",
       "      <td>26900</td>\n",
       "      <td>Kwinana Station</td>\n",
       "      <td>4900</td>\n",
       "      <td>02-2019\\r</td>\n",
       "      <td>6167</td>\n",
       "      <td>-32.193470</td>\n",
       "      <td>115.859554</td>\n",
       "      <td>ATWELL COLLEGE</td>\n",
       "      <td>5.524324</td>\n",
       "      <td>129.0</td>\n",
       "    </tr>\n",
       "    <tr>\n",
       "      <th>2</th>\n",
       "      <td>1 Ainsley Court</td>\n",
       "      <td>Camillo</td>\n",
       "      <td>287000</td>\n",
       "      <td>3</td>\n",
       "      <td>1</td>\n",
       "      <td>1.0</td>\n",
       "      <td>719</td>\n",
       "      <td>86</td>\n",
       "      <td>1979.0</td>\n",
       "      <td>22600</td>\n",
       "      <td>Challis Station</td>\n",
       "      <td>1900</td>\n",
       "      <td>06-2015\\r</td>\n",
       "      <td>6111</td>\n",
       "      <td>-32.120578</td>\n",
       "      <td>115.993579</td>\n",
       "      <td>KELMSCOTT SENIOR HIGH SCHOOL</td>\n",
       "      <td>1.649178</td>\n",
       "      <td>113.0</td>\n",
       "    </tr>\n",
       "    <tr>\n",
       "      <th>3</th>\n",
       "      <td>1 Albert Street</td>\n",
       "      <td>Bellevue</td>\n",
       "      <td>255000</td>\n",
       "      <td>2</td>\n",
       "      <td>1</td>\n",
       "      <td>2.0</td>\n",
       "      <td>651</td>\n",
       "      <td>59</td>\n",
       "      <td>1953.0</td>\n",
       "      <td>17900</td>\n",
       "      <td>Midland Station</td>\n",
       "      <td>3600</td>\n",
       "      <td>07-2018\\r</td>\n",
       "      <td>6056</td>\n",
       "      <td>-31.900547</td>\n",
       "      <td>116.038009</td>\n",
       "      <td>SWAN VIEW SENIOR HIGH SCHOOL</td>\n",
       "      <td>1.571401</td>\n",
       "      <td>NaN</td>\n",
       "    </tr>\n",
       "    <tr>\n",
       "      <th>4</th>\n",
       "      <td>1 Aman Place</td>\n",
       "      <td>Lockridge</td>\n",
       "      <td>325000</td>\n",
       "      <td>4</td>\n",
       "      <td>1</td>\n",
       "      <td>2.0</td>\n",
       "      <td>466</td>\n",
       "      <td>131</td>\n",
       "      <td>1998.0</td>\n",
       "      <td>11200</td>\n",
       "      <td>Bassendean Station</td>\n",
       "      <td>2000</td>\n",
       "      <td>11-2016\\r</td>\n",
       "      <td>6054</td>\n",
       "      <td>-31.885790</td>\n",
       "      <td>115.947780</td>\n",
       "      <td>KIARA COLLEGE</td>\n",
       "      <td>1.514922</td>\n",
       "      <td>NaN</td>\n",
       "    </tr>\n",
       "    <tr>\n",
       "      <th>...</th>\n",
       "      <td>...</td>\n",
       "      <td>...</td>\n",
       "      <td>...</td>\n",
       "      <td>...</td>\n",
       "      <td>...</td>\n",
       "      <td>...</td>\n",
       "      <td>...</td>\n",
       "      <td>...</td>\n",
       "      <td>...</td>\n",
       "      <td>...</td>\n",
       "      <td>...</td>\n",
       "      <td>...</td>\n",
       "      <td>...</td>\n",
       "      <td>...</td>\n",
       "      <td>...</td>\n",
       "      <td>...</td>\n",
       "      <td>...</td>\n",
       "      <td>...</td>\n",
       "      <td>...</td>\n",
       "    </tr>\n",
       "    <tr>\n",
       "      <th>33651</th>\n",
       "      <td>9C Gold Street</td>\n",
       "      <td>South Fremantle</td>\n",
       "      <td>1040000</td>\n",
       "      <td>4</td>\n",
       "      <td>3</td>\n",
       "      <td>2.0</td>\n",
       "      <td>292</td>\n",
       "      <td>245</td>\n",
       "      <td>2013.0</td>\n",
       "      <td>16100</td>\n",
       "      <td>Fremantle Station</td>\n",
       "      <td>1500</td>\n",
       "      <td>03-2016\\r</td>\n",
       "      <td>6162</td>\n",
       "      <td>-32.064580</td>\n",
       "      <td>115.751820</td>\n",
       "      <td>CHRISTIAN BROTHERS' COLLEGE</td>\n",
       "      <td>1.430350</td>\n",
       "      <td>49.0</td>\n",
       "    </tr>\n",
       "    <tr>\n",
       "      <th>33652</th>\n",
       "      <td>9C Pycombe Way</td>\n",
       "      <td>Westminster</td>\n",
       "      <td>410000</td>\n",
       "      <td>3</td>\n",
       "      <td>2</td>\n",
       "      <td>2.0</td>\n",
       "      <td>228</td>\n",
       "      <td>114</td>\n",
       "      <td>NaN</td>\n",
       "      <td>9600</td>\n",
       "      <td>Stirling Station</td>\n",
       "      <td>4600</td>\n",
       "      <td>02-2017\\r</td>\n",
       "      <td>6061</td>\n",
       "      <td>-31.867055</td>\n",
       "      <td>115.841403</td>\n",
       "      <td>JOHN SEPTIMUS ROE ANGLICAN COMMUNITY SCHOOL</td>\n",
       "      <td>1.679644</td>\n",
       "      <td>35.0</td>\n",
       "    </tr>\n",
       "    <tr>\n",
       "      <th>33653</th>\n",
       "      <td>9D Pycombe Way</td>\n",
       "      <td>Westminster</td>\n",
       "      <td>427000</td>\n",
       "      <td>3</td>\n",
       "      <td>2</td>\n",
       "      <td>2.0</td>\n",
       "      <td>261</td>\n",
       "      <td>112</td>\n",
       "      <td>NaN</td>\n",
       "      <td>9600</td>\n",
       "      <td>Stirling Station</td>\n",
       "      <td>4600</td>\n",
       "      <td>02-2017\\r</td>\n",
       "      <td>6061</td>\n",
       "      <td>-31.866890</td>\n",
       "      <td>115.841418</td>\n",
       "      <td>JOHN SEPTIMUS ROE ANGLICAN COMMUNITY SCHOOL</td>\n",
       "      <td>1.669159</td>\n",
       "      <td>35.0</td>\n",
       "    </tr>\n",
       "    <tr>\n",
       "      <th>33654</th>\n",
       "      <td>9D Shalford Way</td>\n",
       "      <td>Girrawheen</td>\n",
       "      <td>295000</td>\n",
       "      <td>3</td>\n",
       "      <td>1</td>\n",
       "      <td>2.0</td>\n",
       "      <td>457</td>\n",
       "      <td>85</td>\n",
       "      <td>1974.0</td>\n",
       "      <td>12600</td>\n",
       "      <td>Warwick Station</td>\n",
       "      <td>4400</td>\n",
       "      <td>10-2016\\r</td>\n",
       "      <td>6064</td>\n",
       "      <td>-31.839680</td>\n",
       "      <td>115.842410</td>\n",
       "      <td>GIRRAWHEEN SENIOR HIGH SCHOOL</td>\n",
       "      <td>0.358494</td>\n",
       "      <td>NaN</td>\n",
       "    </tr>\n",
       "    <tr>\n",
       "      <th>33655</th>\n",
       "      <td>9E Margaret Street</td>\n",
       "      <td>Midland</td>\n",
       "      <td>295000</td>\n",
       "      <td>3</td>\n",
       "      <td>1</td>\n",
       "      <td>2.0</td>\n",
       "      <td>296</td>\n",
       "      <td>95</td>\n",
       "      <td>NaN</td>\n",
       "      <td>16700</td>\n",
       "      <td>Midland Station</td>\n",
       "      <td>1700</td>\n",
       "      <td>05-2016\\r</td>\n",
       "      <td>6056</td>\n",
       "      <td>-31.882163</td>\n",
       "      <td>116.014755</td>\n",
       "      <td>LA SALLE COLLEGE</td>\n",
       "      <td>1.055564</td>\n",
       "      <td>53.0</td>\n",
       "    </tr>\n",
       "  </tbody>\n",
       "</table>\n",
       "<p>33656 rows × 19 columns</p>\n",
       "</div>"
      ],
      "text/plain": [
       "                  ADDRESS           SUBURB    PRICE  BEDROOMS  BATHROOMS  \\\n",
       "0           1 Acorn Place       South Lake   565000         4          2   \n",
       "1             1 Addis Way            Wandi   365000         3          2   \n",
       "2         1 Ainsley Court          Camillo   287000         3          1   \n",
       "3         1 Albert Street         Bellevue   255000         2          1   \n",
       "4            1 Aman Place        Lockridge   325000         4          1   \n",
       "...                   ...              ...      ...       ...        ...   \n",
       "33651      9C Gold Street  South Fremantle  1040000         4          3   \n",
       "33652      9C Pycombe Way      Westminster   410000         3          2   \n",
       "33653      9D Pycombe Way      Westminster   427000         3          2   \n",
       "33654     9D Shalford Way       Girrawheen   295000         3          1   \n",
       "33655  9E Margaret Street          Midland   295000         3          1   \n",
       "\n",
       "       GARAGE  LAND_AREA  FLOOR_AREA  BUILD_YEAR  CBD_DIST  \\\n",
       "0         2.0        600         160      2003.0     18300   \n",
       "1         2.0        351         139      2013.0     26900   \n",
       "2         1.0        719          86      1979.0     22600   \n",
       "3         2.0        651          59      1953.0     17900   \n",
       "4         2.0        466         131      1998.0     11200   \n",
       "...       ...        ...         ...         ...       ...   \n",
       "33651     2.0        292         245      2013.0     16100   \n",
       "33652     2.0        228         114         NaN      9600   \n",
       "33653     2.0        261         112         NaN      9600   \n",
       "33654     2.0        457          85      1974.0     12600   \n",
       "33655     2.0        296          95         NaN     16700   \n",
       "\n",
       "                    NEAREST_STN  NEAREST_STN_DIST  DATE_SOLD  POSTCODE  \\\n",
       "0      Cockburn Central Station              1800  09-2018\\r      6164   \n",
       "1               Kwinana Station              4900  02-2019\\r      6167   \n",
       "2               Challis Station              1900  06-2015\\r      6111   \n",
       "3               Midland Station              3600  07-2018\\r      6056   \n",
       "4            Bassendean Station              2000  11-2016\\r      6054   \n",
       "...                         ...               ...        ...       ...   \n",
       "33651         Fremantle Station              1500  03-2016\\r      6162   \n",
       "33652          Stirling Station              4600  02-2017\\r      6061   \n",
       "33653          Stirling Station              4600  02-2017\\r      6061   \n",
       "33654           Warwick Station              4400  10-2016\\r      6064   \n",
       "33655           Midland Station              1700  05-2016\\r      6056   \n",
       "\n",
       "        LATITUDE   LONGITUDE                                  NEAREST_SCH  \\\n",
       "0     -32.115900  115.842450                  LAKELAND SENIOR HIGH SCHOOL   \n",
       "1     -32.193470  115.859554                               ATWELL COLLEGE   \n",
       "2     -32.120578  115.993579                 KELMSCOTT SENIOR HIGH SCHOOL   \n",
       "3     -31.900547  116.038009                 SWAN VIEW SENIOR HIGH SCHOOL   \n",
       "4     -31.885790  115.947780                                KIARA COLLEGE   \n",
       "...          ...         ...                                          ...   \n",
       "33651 -32.064580  115.751820                  CHRISTIAN BROTHERS' COLLEGE   \n",
       "33652 -31.867055  115.841403  JOHN SEPTIMUS ROE ANGLICAN COMMUNITY SCHOOL   \n",
       "33653 -31.866890  115.841418  JOHN SEPTIMUS ROE ANGLICAN COMMUNITY SCHOOL   \n",
       "33654 -31.839680  115.842410                GIRRAWHEEN SENIOR HIGH SCHOOL   \n",
       "33655 -31.882163  116.014755                             LA SALLE COLLEGE   \n",
       "\n",
       "       NEAREST_SCH_DIST  NEAREST_SCH_RANK  \n",
       "0              0.828339               NaN  \n",
       "1              5.524324             129.0  \n",
       "2              1.649178             113.0  \n",
       "3              1.571401               NaN  \n",
       "4              1.514922               NaN  \n",
       "...                 ...               ...  \n",
       "33651          1.430350              49.0  \n",
       "33652          1.679644              35.0  \n",
       "33653          1.669159              35.0  \n",
       "33654          0.358494               NaN  \n",
       "33655          1.055564              53.0  \n",
       "\n",
       "[33656 rows x 19 columns]"
      ]
     },
     "execution_count": 186,
     "metadata": {},
     "output_type": "execute_result"
    }
   ],
   "source": [
    "df"
   ]
  },
  {
   "cell_type": "markdown",
   "id": "182c704f",
   "metadata": {},
   "source": [
    "DEFINING FEATURES USED TO TRAIN MODEL AND TARGET VARIABLE (i.e Price)"
   ]
  },
  {
   "cell_type": "code",
   "execution_count": 187,
   "id": "ce258284",
   "metadata": {},
   "outputs": [],
   "source": [
    "rental_price_features = [\n",
    "    'BEDROOMS', 'BATHROOMS', 'GARAGE', 'LAND_AREA', 'FLOOR_AREA',\n",
    "    'BUILD_YEAR', 'CBD_DIST', 'NEAREST_STN_DIST', 'NEAREST_SCH_DIST',\n",
    "    'POSTCODE',]\n",
    "    "
   ]
  },
  {
   "cell_type": "code",
   "execution_count": 188,
   "id": "14a4b4b8",
   "metadata": {},
   "outputs": [],
   "source": [
    "target_variable = 'PRICE'"
   ]
  },
  {
   "cell_type": "code",
   "execution_count": 189,
   "id": "431cbcb0",
   "metadata": {},
   "outputs": [],
   "source": [
    "X = df[rental_price_features]\n",
    "y = df[target_variable]"
   ]
  },
  {
   "cell_type": "markdown",
   "id": "b890f5b0",
   "metadata": {},
   "source": [
    "Splitting the data into training and testing sets"
   ]
  },
  {
   "cell_type": "code",
   "execution_count": 190,
   "id": "52ca2e57",
   "metadata": {},
   "outputs": [],
   "source": [
    "rental_price_df = df[rental_price_features + ['PRICE']].dropna()\n",
    "\n",
    "X_train, X_test, y_train, y_test = train_test_split(\n",
    "    rental_price_df.drop('PRICE', axis=1),\n",
    "    rental_price_df['PRICE'],\n",
    "    test_size=0.2,\n",
    "    random_state=42\n",
    ")\n",
    "\n"
   ]
  },
  {
   "cell_type": "markdown",
   "id": "bce7a0d5",
   "metadata": {},
   "source": [
    "Scaling data using StandardScaler (chosen due to random nature of data and datatype being numerical)"
   ]
  },
  {
   "cell_type": "code",
   "execution_count": 191,
   "id": "d3a0ea5c",
   "metadata": {},
   "outputs": [],
   "source": [
    "scaler = QuantileTransformer()\n",
    "X_train_scaled = scaler.fit_transform(X_train)\n",
    "X_test_scaled = scaler.transform(X_test)"
   ]
  },
  {
   "cell_type": "markdown",
   "id": "79c66322",
   "metadata": {},
   "source": [
    "Defining and Traning the Model "
   ]
  },
  {
   "cell_type": "code",
   "execution_count": 192,
   "id": "f4c17090",
   "metadata": {},
   "outputs": [
    {
     "data": {
      "text/plain": [
       "LinearRegression()"
      ]
     },
     "execution_count": 192,
     "metadata": {},
     "output_type": "execute_result"
    }
   ],
   "source": [
    "model = LinearRegression()\n",
    "model.fit(X_train_scaled, y_train)"
   ]
  },
  {
   "cell_type": "code",
   "execution_count": 193,
   "id": "aeca5241",
   "metadata": {},
   "outputs": [
    {
     "data": {
      "text/plain": [
       "array([ -96867.5431669 ,  211861.84383613,   41646.00856777,\n",
       "         94713.63789403,  639108.23157875, -215671.75952951,\n",
       "       -437827.34652531,  -76936.02021859,   56965.90664058,\n",
       "       -135127.89496232])"
      ]
     },
     "execution_count": 193,
     "metadata": {},
     "output_type": "execute_result"
    }
   ],
   "source": [
    "#Print model coefficients\n",
    "model.coef_"
   ]
  },
  {
   "cell_type": "code",
   "execution_count": 194,
   "id": "31b801db",
   "metadata": {},
   "outputs": [],
   "source": [
    "#Predicting price of test data to test model\n",
    "y_pred = model.predict(X_test_scaled)"
   ]
  },
  {
   "cell_type": "code",
   "execution_count": 195,
   "id": "a147324a",
   "metadata": {},
   "outputs": [
    {
     "data": {
      "text/plain": [
       "609033.5934030006"
      ]
     },
     "execution_count": 195,
     "metadata": {},
     "output_type": "execute_result"
    }
   ],
   "source": [
    "model.intercept_"
   ]
  },
  {
   "cell_type": "code",
   "execution_count": 196,
   "id": "aba0ae8b",
   "metadata": {},
   "outputs": [
    {
     "name": "stderr",
     "output_type": "stream",
     "text": [
      "/home/g-dey/anaconda3/lib/python3.8/site-packages/sklearn/base.py:443: UserWarning: X has feature names, but LinearRegression was fitted without feature names\n",
      "  warnings.warn(\n"
     ]
    }
   ],
   "source": [
    "y_pred = np.array(model.predict(X_test))"
   ]
  },
  {
   "cell_type": "code",
   "execution_count": 197,
   "id": "aa1f8e30",
   "metadata": {},
   "outputs": [
    {
     "data": {
      "text/plain": [
       "0      -7.863340e+09\n",
       "1      -1.208397e+10\n",
       "2      -7.414789e+09\n",
       "3      -5.602418e+09\n",
       "4      -6.646388e+09\n",
       "            ...     \n",
       "5647   -6.631310e+09\n",
       "5648   -1.356703e+10\n",
       "5649   -2.435794e+10\n",
       "5650   -1.176301e+10\n",
       "5651   -1.457470e+10\n",
       "Name: 0, Length: 5652, dtype: float64"
      ]
     },
     "execution_count": 197,
     "metadata": {},
     "output_type": "execute_result"
    }
   ],
   "source": [
    "pd.DataFrame(y_pred)[0]"
   ]
  },
  {
   "cell_type": "markdown",
   "id": "9c7db8b1",
   "metadata": {},
   "source": [
    "WRITE OUTPUT TO A DATAFRAME AND CALCULATE RMSE"
   ]
  },
  {
   "cell_type": "code",
   "execution_count": 198,
   "id": "59e47113",
   "metadata": {},
   "outputs": [
    {
     "data": {
      "text/plain": [
       "{'y_test': 8940     320000\n",
       " 5001     505000\n",
       " 28288    388000\n",
       " 17565    730000\n",
       " 2638     915000\n",
       "           ...  \n",
       " 3954     647000\n",
       " 23975    775000\n",
       " 33007    320000\n",
       " 22127    750000\n",
       " 4768     450000\n",
       " Name: PRICE, Length: 5652, dtype: int64,\n",
       " 'y_pred': array([-7.86334013e+09, -1.20839658e+10, -7.41478877e+09, ...,\n",
       "        -2.43579395e+10, -1.17630084e+10, -1.45747025e+10])}"
      ]
     },
     "execution_count": 198,
     "metadata": {},
     "output_type": "execute_result"
    }
   ],
   "source": [
    "test_op = {\n",
    "    'y_test': y_test,\n",
    "    'y_pred': y_pred\n",
    "}\n",
    "\n",
    "test_op"
   ]
  },
  {
   "cell_type": "code",
   "execution_count": 199,
   "id": "1ac1e2a8",
   "metadata": {},
   "outputs": [
    {
     "name": "stdout",
     "output_type": "stream",
     "text": [
      "Mean Squared Error:  1.1913343603397378e+20\n",
      "RMSE =  10914826431.692526\n"
     ]
    }
   ],
   "source": [
    "mse = mean_squared_error(y_test, y_pred)\n",
    "print('Mean Squared Error: ', mse)\n",
    "print('RMSE = ', np.sqrt(mse))"
   ]
  },
  {
   "cell_type": "code",
   "execution_count": 200,
   "id": "70059036",
   "metadata": {},
   "outputs": [],
   "source": [
    "#Function to return predicted price given input data\n",
    "def predict_price(area_data):\n",
    "    # Standardize input data\n",
    "    scaled_area_data = scaler.transform(area_data.reshape(1, -1))\n",
    "    \n",
    "    # Predict rental price\n",
    "    predicted_price = model.predict(scaled_area_data)\n",
    "\n",
    "    return predicted_price[0]\n"
   ]
  },
  {
   "cell_type": "code",
   "execution_count": 207,
   "id": "d3f0f36e",
   "metadata": {},
   "outputs": [
    {
     "name": "stdout",
     "output_type": "stream",
     "text": [
      "Predicted Rent Price (AUD):  402343.1872317985\n"
     ]
    },
    {
     "name": "stderr",
     "output_type": "stream",
     "text": [
      "/home/g-dey/anaconda3/lib/python3.8/site-packages/sklearn/base.py:450: UserWarning: X does not have valid feature names, but QuantileTransformer was fitted with feature names\n",
      "  warnings.warn(\n"
     ]
    }
   ],
   "source": [
    "# features = [\n",
    "#     'BEDROOMS', 'BATHROOMS', 'GARAGE', 'LAND_AREA', 'FLOOR_AREA',\n",
    "#     'BUILD_YEAR', 'CBD_DIST', 'NEAREST_STN_DIST', 'NEAREST_SCH_DIST',\n",
    "#     'POSTCODE',]\n",
    "\n",
    "input_area_data = np.array([2, 1, 1, 60, 45, 2007, 4000, 2000, 5000, 6061])\n",
    "predicted_price_aud = predict_price(input_area_data)\n",
    "print('Predicted Rent Price (AUD): ', predicted_price_aud)"
   ]
  },
  {
   "cell_type": "markdown",
   "id": "7c8f8f38",
   "metadata": {},
   "source": [
    "PLOTTING IMPORTANCE COEFFICIENTS OF FEATURES"
   ]
  },
  {
   "cell_type": "code",
   "execution_count": 202,
   "id": "a7e448bd",
   "metadata": {},
   "outputs": [],
   "source": [
    "coefficients = model.coef_.reshape(-1,1)"
   ]
  },
  {
   "cell_type": "code",
   "execution_count": 203,
   "id": "abd7558f",
   "metadata": {},
   "outputs": [],
   "source": [
    "coefficients = coefficients.reshape(10,)"
   ]
  },
  {
   "cell_type": "code",
   "execution_count": 204,
   "id": "b1971086",
   "metadata": {},
   "outputs": [
    {
     "data": {
      "text/plain": [
       "(10,)"
      ]
     },
     "execution_count": 204,
     "metadata": {},
     "output_type": "execute_result"
    }
   ],
   "source": [
    "coefficients.shape"
   ]
  },
  {
   "cell_type": "code",
   "execution_count": 205,
   "id": "d27e3c2e",
   "metadata": {},
   "outputs": [],
   "source": [
    "feature_importances = pd.DataFrame({'variable':X.columns, 'coefficient': coefficients})"
   ]
  },
  {
   "cell_type": "code",
   "execution_count": 206,
   "id": "74b067c4",
   "metadata": {},
   "outputs": [
    {
     "data": {
      "image/png": "[encoded data removed]",
      "text/plain": [
       "<Figure size 1396.8x667.44 with 1 Axes>"
      ]
     },
     "metadata": {},
     "output_type": "display_data"
    }
   ],
   "source": [
    "sns.barplot(x=feature_importances['variable'], y=feature_importances['coefficient'])\n",
    "sns.set(rc={'figure.figsize':(19.4,9.27)})"
   ]
  },
  {
   "cell_type": "code",
   "execution_count": null,
   "id": "3fdcff75",
   "metadata": {},
   "outputs": [],
   "source": []
  }
 ],
 "metadata": {
  "kernelspec": {
   "display_name": "Python 3 (ipykernel)",
   "language": "python",
   "name": "python3"
  },
  "language_info": {
   "codemirror_mode": {
    "name": "ipython",
    "version": 3
   },
   "file_extension": ".py",
   "mimetype": "text/x-python",
   "name": "python",
   "nbconvert_exporter": "python",
   "pygments_lexer": "ipython3",
   "version": "3.8.12"
  }
 },
 "nbformat": 4,
 "nbformat_minor": 5
}
